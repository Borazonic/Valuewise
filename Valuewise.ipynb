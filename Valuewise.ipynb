{
 "cells": [
  {
   "cell_type": "code",
   "execution_count": 1,
   "id": "43fc1e8d",
   "metadata": {},
   "outputs": [],
   "source": [
    "import pandas as pd\n",
    "\n",
    "df = pd.read_excel(\"demographic.xlsx\")\n"
   ]
  },
  {
   "cell_type": "code",
   "execution_count": 2,
   "id": "09bea881",
   "metadata": {},
   "outputs": [
    {
     "data": {
      "text/html": [
       "<div>\n",
       "<style scoped>\n",
       "    .dataframe tbody tr th:only-of-type {\n",
       "        vertical-align: middle;\n",
       "    }\n",
       "\n",
       "    .dataframe tbody tr th {\n",
       "        vertical-align: top;\n",
       "    }\n",
       "\n",
       "    .dataframe thead th {\n",
       "        text-align: right;\n",
       "    }\n",
       "</style>\n",
       "<table border=\"1\" class=\"dataframe\">\n",
       "  <thead>\n",
       "    <tr style=\"text-align: right;\">\n",
       "      <th></th>\n",
       "      <th>Region</th>\n",
       "      <th>PC</th>\n",
       "      <th>Description</th>\n",
       "      <th>km^2</th>\n",
       "      <th>Households</th>\n",
       "      <th>Population</th>\n",
       "      <th>Category</th>\n",
       "      <th>Affluent</th>\n",
       "      <th>Connected</th>\n",
       "      <th>Mobile Lifestyle</th>\n",
       "      <th>City Slickers</th>\n",
       "    </tr>\n",
       "  </thead>\n",
       "  <tbody>\n",
       "    <tr>\n",
       "      <th>0</th>\n",
       "      <td>Anglia</td>\n",
       "      <td>AL</td>\n",
       "      <td>St Albans</td>\n",
       "      <td>296</td>\n",
       "      <td>97525</td>\n",
       "      <td>229502</td>\n",
       "      <td>Suburban</td>\n",
       "      <td>0.16</td>\n",
       "      <td>0.13</td>\n",
       "      <td>0.16</td>\n",
       "      <td>0.13</td>\n",
       "    </tr>\n",
       "    <tr>\n",
       "      <th>1</th>\n",
       "      <td>Anglia</td>\n",
       "      <td>CB</td>\n",
       "      <td>Cambridge</td>\n",
       "      <td>1818</td>\n",
       "      <td>148838</td>\n",
       "      <td>349949</td>\n",
       "      <td>Suburban</td>\n",
       "      <td>0.22</td>\n",
       "      <td>0.13</td>\n",
       "      <td>0.22</td>\n",
       "      <td>0.13</td>\n",
       "    </tr>\n",
       "    <tr>\n",
       "      <th>2</th>\n",
       "      <td>Anglia</td>\n",
       "      <td>CM</td>\n",
       "      <td>Chelmsford</td>\n",
       "      <td>1800</td>\n",
       "      <td>254271</td>\n",
       "      <td>613034</td>\n",
       "      <td>Rural</td>\n",
       "      <td>0.22</td>\n",
       "      <td>0.13</td>\n",
       "      <td>0.22</td>\n",
       "      <td>0.13</td>\n",
       "    </tr>\n",
       "    <tr>\n",
       "      <th>3</th>\n",
       "      <td>Anglia</td>\n",
       "      <td>CO</td>\n",
       "      <td>Colchester</td>\n",
       "      <td>1334</td>\n",
       "      <td>164746</td>\n",
       "      <td>377322</td>\n",
       "      <td>Rural</td>\n",
       "      <td>0.18</td>\n",
       "      <td>0.07</td>\n",
       "      <td>0.18</td>\n",
       "      <td>0.07</td>\n",
       "    </tr>\n",
       "    <tr>\n",
       "      <th>4</th>\n",
       "      <td>Anglia</td>\n",
       "      <td>EN</td>\n",
       "      <td>Enfield</td>\n",
       "      <td>219</td>\n",
       "      <td>136556</td>\n",
       "      <td>330709</td>\n",
       "      <td>Urban</td>\n",
       "      <td>0.11</td>\n",
       "      <td>0.15</td>\n",
       "      <td>0.11</td>\n",
       "      <td>0.15</td>\n",
       "    </tr>\n",
       "  </tbody>\n",
       "</table>\n",
       "</div>"
      ],
      "text/plain": [
       "   Region  PC Description  km^2  Households  Population  Category  Affluent  \\\n",
       "0  Anglia  AL   St Albans   296       97525      229502  Suburban      0.16   \n",
       "1  Anglia  CB   Cambridge  1818      148838      349949  Suburban      0.22   \n",
       "2  Anglia  CM  Chelmsford  1800      254271      613034     Rural      0.22   \n",
       "3  Anglia  CO  Colchester  1334      164746      377322     Rural      0.18   \n",
       "4  Anglia  EN     Enfield   219      136556      330709     Urban      0.11   \n",
       "\n",
       "   Connected  Mobile Lifestyle  City Slickers  \n",
       "0       0.13              0.16           0.13  \n",
       "1       0.13              0.22           0.13  \n",
       "2       0.13              0.22           0.13  \n",
       "3       0.07              0.18           0.07  \n",
       "4       0.15              0.11           0.15  "
      ]
     },
     "execution_count": 2,
     "metadata": {},
     "output_type": "execute_result"
    }
   ],
   "source": [
    "df.head()\n"
   ]
  },
  {
   "cell_type": "code",
   "execution_count": null,
   "id": "9343af74",
   "metadata": {},
   "outputs": [],
   "source": []
  },
  {
   "cell_type": "code",
   "execution_count": 3,
   "id": "1809aac6",
   "metadata": {},
   "outputs": [
    {
     "name": "stdout",
     "output_type": "stream",
     "text": [
      "['Suburban' 'Rural' 'Urban']\n"
     ]
    }
   ],
   "source": [
    "print(df['Category'].unique())"
   ]
  },
  {
   "cell_type": "code",
   "execution_count": 4,
   "id": "a0525a8c",
   "metadata": {},
   "outputs": [
    {
     "name": "stdout",
     "output_type": "stream",
     "text": [
      "Urban: (29, 11)\n",
      "Rural: (53, 11)\n",
      "Suburban: (38, 11)\n"
     ]
    }
   ],
   "source": [
    "df_urban = df[df['Category'].str.lower() == 'urban']\n",
    "df_rural = df[df['Category'].str.lower() == 'rural']\n",
    "df_suburban = df[df['Category'].str.lower() == 'suburban']\n",
    "\n",
    "# Optional: check sizes\n",
    "print(\"Urban:\", df_urban.shape)\n",
    "print(\"Rural:\", df_rural.shape)\n",
    "print(\"Suburban:\", df_suburban.shape)"
   ]
  },
  {
   "cell_type": "code",
   "execution_count": null,
   "id": "f5b0bfac",
   "metadata": {},
   "outputs": [],
   "source": []
  },
  {
   "cell_type": "code",
   "execution_count": 5,
   "id": "e90092a2",
   "metadata": {},
   "outputs": [
    {
     "name": "stdout",
     "output_type": "stream",
     "text": [
      "   Category  km^2  Towers Needed\n",
      "0  Suburban   296            6.0\n",
      "1  Suburban  1818           37.0\n",
      "2     Rural  1800            8.0\n",
      "3     Rural  1334            6.0\n",
      "4     Urban   219           31.0\n"
     ]
    }
   ],
   "source": [
    "import numpy as np\n",
    "\n",
    "# Define coverage areas\n",
    "coverage = {\n",
    "    \"urban\": np.pi * (1.5**2),      # ≈ 7.07\n",
    "    \"suburban\": np.pi * (4**2),     # ≈ 50.27\n",
    "    \"rural\": np.pi * (9**2)         # ≈ 254.47\n",
    "}\n",
    "\n",
    "# Add a new column \"Towers Needed\"\n",
    "df['Towers Needed'] = df.apply(\n",
    "    lambda row: np.ceil(row['km^2'] / coverage[row['Category'].lower()]),\n",
    "    axis=1\n",
    ")\n",
    "\n",
    "# Check first few rows\n",
    "print(df[['Category', 'km^2', 'Towers Needed']].head())\n"
   ]
  },
  {
   "cell_type": "code",
   "execution_count": 6,
   "id": "ced9db78",
   "metadata": {},
   "outputs": [
    {
     "name": "stderr",
     "output_type": "stream",
     "text": [
      "C:\\Users\\Abhay Kumar\\AppData\\Local\\Temp\\ipykernel_19208\\55073150.py:2: SettingWithCopyWarning: \n",
      "A value is trying to be set on a copy of a slice from a DataFrame.\n",
      "Try using .loc[row_indexer,col_indexer] = value instead\n",
      "\n",
      "See the caveats in the documentation: https://pandas.pydata.org/pandas-docs/stable/user_guide/indexing.html#returning-a-view-versus-a-copy\n",
      "  d['Affluent'] = d['Affluent'] * d['Households']\n",
      "C:\\Users\\Abhay Kumar\\AppData\\Local\\Temp\\ipykernel_19208\\55073150.py:3: SettingWithCopyWarning: \n",
      "A value is trying to be set on a copy of a slice from a DataFrame.\n",
      "Try using .loc[row_indexer,col_indexer] = value instead\n",
      "\n",
      "See the caveats in the documentation: https://pandas.pydata.org/pandas-docs/stable/user_guide/indexing.html#returning-a-view-versus-a-copy\n",
      "  d['Connected'] = d['Connected'] * d['Households']\n",
      "C:\\Users\\Abhay Kumar\\AppData\\Local\\Temp\\ipykernel_19208\\55073150.py:4: SettingWithCopyWarning: \n",
      "A value is trying to be set on a copy of a slice from a DataFrame.\n",
      "Try using .loc[row_indexer,col_indexer] = value instead\n",
      "\n",
      "See the caveats in the documentation: https://pandas.pydata.org/pandas-docs/stable/user_guide/indexing.html#returning-a-view-versus-a-copy\n",
      "  d['Mobile Lifestyle'] = d['Mobile Lifestyle'] * d['Population']\n",
      "C:\\Users\\Abhay Kumar\\AppData\\Local\\Temp\\ipykernel_19208\\55073150.py:5: SettingWithCopyWarning: \n",
      "A value is trying to be set on a copy of a slice from a DataFrame.\n",
      "Try using .loc[row_indexer,col_indexer] = value instead\n",
      "\n",
      "See the caveats in the documentation: https://pandas.pydata.org/pandas-docs/stable/user_guide/indexing.html#returning-a-view-versus-a-copy\n",
      "  d['City Slickers'] = d['City Slickers'] * d['Population']\n"
     ]
    }
   ],
   "source": [
    "for d in [df_urban, df_rural, df_suburban]:\n",
    "    d['Affluent'] = d['Affluent'] * d['Households']\n",
    "    d['Connected'] = d['Connected'] * d['Households']\n",
    "    d['Mobile Lifestyle'] = d['Mobile Lifestyle'] * d['Population']\n",
    "    d['City Slickers'] = d['City Slickers'] * d['Population']\n"
   ]
  },
  {
   "cell_type": "code",
   "execution_count": 7,
   "id": "ab8454de",
   "metadata": {},
   "outputs": [
    {
     "name": "stdout",
     "output_type": "stream",
     "text": [
      "Urban summary:\n",
      "           Affluent      Connected  Mobile Lifestyle  City Slickers\n",
      "count     29.000000      29.000000         29.000000      29.000000\n",
      "mean   11954.854483   35876.814138      28312.632414   81524.254483\n",
      "std    11989.133099   37387.305428      28495.659806   80272.859430\n",
      "min        0.000000    1897.220000          0.000000    3421.600000\n",
      "25%     3631.820000   15819.720000       7673.500000   39599.610000\n",
      "50%     7345.140000   20483.400000      17426.220000   49606.350000\n",
      "75%    15542.460000   41536.890000      37965.960000   94233.240000\n",
      "max    52055.570000  159800.080000     125015.520000  337634.000000\n",
      "\n",
      "Rural summary:\n",
      "           Affluent     Connected  Mobile Lifestyle  City Slickers\n",
      "count     53.000000     53.000000         53.000000      53.000000\n",
      "mean   20363.900755  12724.169434      48139.488491   30085.391321\n",
      "std    19377.806934  10942.214589      46454.140784   26465.768368\n",
      "min      219.120000    200.230000        503.810000     470.050000\n",
      "25%     7273.800000   4120.230000      16006.620000    9340.230000\n",
      "50%    13032.360000   9639.960000      30455.100000   22602.600000\n",
      "75%    29107.210000  18523.680000      67917.960000   41788.200000\n",
      "max    71562.500000  47646.240000     173028.250000  116445.440000\n",
      "\n",
      "Suburban summary:\n",
      "           Affluent     Connected  Mobile Lifestyle  City Slickers\n",
      "count     38.000000     38.000000         38.000000      38.000000\n",
      "mean   28846.937368  26091.378947      67580.926316   60901.740263\n",
      "std    14039.039451  14355.196960      33020.204901   31971.542389\n",
      "min     4044.660000   2696.440000       9365.220000    6243.480000\n",
      "25%    17085.172500  18566.707500      38618.452500   44472.165000\n",
      "50%    29818.380000  22981.650000      69532.530000   53658.075000\n",
      "75%    35635.510000  31028.987500      83330.017500   73937.392500\n",
      "max    63416.640000  81230.700000     152267.640000  180080.100000\n"
     ]
    }
   ],
   "source": [
    "print(\"Urban summary:\")\n",
    "print(df_urban[['Affluent','Connected','Mobile Lifestyle','City Slickers']].describe())\n",
    "\n",
    "print(\"\\nRural summary:\")\n",
    "print(df_rural[['Affluent','Connected','Mobile Lifestyle','City Slickers']].describe())\n",
    "\n",
    "print(\"\\nSuburban summary:\")\n",
    "print(df_suburban[['Affluent','Connected','Mobile Lifestyle','City Slickers']].describe())\n"
   ]
  },
  {
   "cell_type": "code",
   "execution_count": 8,
   "id": "2a19a079",
   "metadata": {},
   "outputs": [
    {
     "name": "stdout",
     "output_type": "stream",
     "text": [
      "Urban sample:\n",
      "    Region  PC      Description  km^2  Households  Population Category  \\\n",
      "4   Anglia  EN          Enfield   219      136556      330709    Urban   \n",
      "5   Anglia  IG           Ilford    95      118838      290437    Urban   \n",
      "11  Anglia  RM          Romford   293      203751      498186    Urban   \n",
      "13  Anglia  SS  Southend-On-Sea   390      217772      513552    Urban   \n",
      "14  Anglia  WD          Watford   193       99140      234319    Urban   \n",
      "\n",
      "    Affluent  Connected  Mobile Lifestyle  City Slickers  \n",
      "4   15021.16   20483.40          36377.99       49606.35  \n",
      "5    7130.28   10695.42          17426.22       26139.33  \n",
      "11   8150.04   16300.08          19927.44       39854.88  \n",
      "13  26132.64   28310.36          61626.24       66761.76  \n",
      "14  13879.60   12888.20          32804.66       30461.47  \n",
      "\n",
      "Rural sample:\n",
      "    Region  PC   Description  km^2  Households  Population Category  Affluent  \\\n",
      "2   Anglia  CM    Chelmsford  1800      254271      613034    Rural  55939.62   \n",
      "3   Anglia  CO    Colchester  1334      164746      377322    Rural  29654.28   \n",
      "6   Anglia  IP       Ipswich  3810      233581      553166    Rural  32701.34   \n",
      "10  Anglia  PE  Peterborough  5710      334894      795823    Rural  33489.40   \n",
      "12  Anglia  SG     Stevenage  1290      154364      370912    Rural  33960.08   \n",
      "\n",
      "    Connected  Mobile Lifestyle  City Slickers  \n",
      "2    33055.23         134867.48       79694.42  \n",
      "3    11532.22          67917.96       26412.54  \n",
      "6    21022.29          77443.24       49784.94  \n",
      "10   20093.64          79582.30       47749.38  \n",
      "12   18523.68          81600.64       44509.44  \n",
      "\n",
      "Suburban sample:\n",
      "   Region  PC    Description  km^2  Households  Population  Category  \\\n",
      "0  Anglia  AL      St Albans   296       97525      229502  Suburban   \n",
      "1  Anglia  CB      Cambridge  1818      148838      349949  Suburban   \n",
      "7  Anglia  LU          Luton   388      125491      310183  Suburban   \n",
      "8  Anglia  MK  Milton Keynes  1356      173904      422631  Suburban   \n",
      "9  Anglia  NR        Norwich  3324      296079      681279  Suburban   \n",
      "\n",
      "   Affluent  Connected  Mobile Lifestyle  City Slickers  \n",
      "0  15604.00   12678.25          36720.32       29835.26  \n",
      "1  32744.36   19348.94          76988.78       45493.37  \n",
      "7  12549.10   25098.20          31018.30       62036.60  \n",
      "8  33041.76   22607.52          80299.89       54942.03  \n",
      "9  29607.90   17764.74          68127.90       40876.74  \n"
     ]
    }
   ],
   "source": [
    "print(\"Urban sample:\")\n",
    "print(df_urban.head())\n",
    "\n",
    "print(\"\\nRural sample:\")\n",
    "print(df_rural.head())\n",
    "\n",
    "print(\"\\nSuburban sample:\")\n",
    "print(df_suburban.head())\n"
   ]
  },
  {
   "cell_type": "code",
   "execution_count": 9,
   "id": "3329ddb7",
   "metadata": {},
   "outputs": [
    {
     "name": "stderr",
     "output_type": "stream",
     "text": [
      "C:\\Users\\Abhay Kumar\\AppData\\Local\\Temp\\ipykernel_19208\\2712243339.py:11: SettingWithCopyWarning: \n",
      "A value is trying to be set on a copy of a slice from a DataFrame.\n",
      "Try using .loc[row_indexer,col_indexer] = value instead\n",
      "\n",
      "See the caveats in the documentation: https://pandas.pydata.org/pandas-docs/stable/user_guide/indexing.html#returning-a-view-versus-a-copy\n",
      "  df_urban['Towers Required'] = np.ceil(df_urban['km^2'] / coverage['urban'])\n",
      "C:\\Users\\Abhay Kumar\\AppData\\Local\\Temp\\ipykernel_19208\\2712243339.py:12: SettingWithCopyWarning: \n",
      "A value is trying to be set on a copy of a slice from a DataFrame.\n",
      "Try using .loc[row_indexer,col_indexer] = value instead\n",
      "\n",
      "See the caveats in the documentation: https://pandas.pydata.org/pandas-docs/stable/user_guide/indexing.html#returning-a-view-versus-a-copy\n",
      "  df_rural['Towers Required'] = np.ceil(df_rural['km^2'] / coverage['rural'])\n",
      "C:\\Users\\Abhay Kumar\\AppData\\Local\\Temp\\ipykernel_19208\\2712243339.py:13: SettingWithCopyWarning: \n",
      "A value is trying to be set on a copy of a slice from a DataFrame.\n",
      "Try using .loc[row_indexer,col_indexer] = value instead\n",
      "\n",
      "See the caveats in the documentation: https://pandas.pydata.org/pandas-docs/stable/user_guide/indexing.html#returning-a-view-versus-a-copy\n",
      "  df_suburban['Towers Required'] = np.ceil(df_suburban['km^2'] / coverage['suburban'])\n"
     ]
    }
   ],
   "source": [
    "import numpy as np\n",
    "\n",
    "# coverage areas\n",
    "coverage = {\n",
    "    \"urban\": np.pi * (1.5**2),      # ~7.07\n",
    "    \"suburban\": np.pi * (4**2),     # ~50.27\n",
    "    \"rural\": np.pi * (9**2)         # ~254.47\n",
    "}\n",
    "\n",
    "# Add towers column for each category df\n",
    "df_urban['Towers Required'] = np.ceil(df_urban['km^2'] / coverage['urban'])\n",
    "df_rural['Towers Required'] = np.ceil(df_rural['km^2'] / coverage['rural'])\n",
    "df_suburban['Towers Required'] = np.ceil(df_suburban['km^2'] / coverage['suburban'])\n"
   ]
  },
  {
   "cell_type": "code",
   "execution_count": 10,
   "id": "5ee5dddb",
   "metadata": {},
   "outputs": [
    {
     "name": "stdout",
     "output_type": "stream",
     "text": [
      "Urban head:\n",
      "    Region  PC      Description  km^2  Households  Population Category  \\\n",
      "4   Anglia  EN          Enfield   219      136556      330709    Urban   \n",
      "5   Anglia  IG           Ilford    95      118838      290437    Urban   \n",
      "11  Anglia  RM          Romford   293      203751      498186    Urban   \n",
      "13  Anglia  SS  Southend-On-Sea   390      217772      513552    Urban   \n",
      "14  Anglia  WD          Watford   193       99140      234319    Urban   \n",
      "\n",
      "    Affluent  Connected  Mobile Lifestyle  City Slickers  Towers Required  \n",
      "4   15021.16   20483.40          36377.99       49606.35             31.0  \n",
      "5    7130.28   10695.42          17426.22       26139.33             14.0  \n",
      "11   8150.04   16300.08          19927.44       39854.88             42.0  \n",
      "13  26132.64   28310.36          61626.24       66761.76             56.0  \n",
      "14  13879.60   12888.20          32804.66       30461.47             28.0  \n",
      "\n",
      "Rural head:\n",
      "    Region  PC   Description  km^2  Households  Population Category  Affluent  \\\n",
      "2   Anglia  CM    Chelmsford  1800      254271      613034    Rural  55939.62   \n",
      "3   Anglia  CO    Colchester  1334      164746      377322    Rural  29654.28   \n",
      "6   Anglia  IP       Ipswich  3810      233581      553166    Rural  32701.34   \n",
      "10  Anglia  PE  Peterborough  5710      334894      795823    Rural  33489.40   \n",
      "12  Anglia  SG     Stevenage  1290      154364      370912    Rural  33960.08   \n",
      "\n",
      "    Connected  Mobile Lifestyle  City Slickers  Towers Required  \n",
      "2    33055.23         134867.48       79694.42              8.0  \n",
      "3    11532.22          67917.96       26412.54              6.0  \n",
      "6    21022.29          77443.24       49784.94             15.0  \n",
      "10   20093.64          79582.30       47749.38             23.0  \n",
      "12   18523.68          81600.64       44509.44              6.0  \n",
      "\n",
      "Suburban head:\n",
      "   Region  PC    Description  km^2  Households  Population  Category  \\\n",
      "0  Anglia  AL      St Albans   296       97525      229502  Suburban   \n",
      "1  Anglia  CB      Cambridge  1818      148838      349949  Suburban   \n",
      "7  Anglia  LU          Luton   388      125491      310183  Suburban   \n",
      "8  Anglia  MK  Milton Keynes  1356      173904      422631  Suburban   \n",
      "9  Anglia  NR        Norwich  3324      296079      681279  Suburban   \n",
      "\n",
      "   Affluent  Connected  Mobile Lifestyle  City Slickers  Towers Required  \n",
      "0  15604.00   12678.25          36720.32       29835.26              6.0  \n",
      "1  32744.36   19348.94          76988.78       45493.37             37.0  \n",
      "7  12549.10   25098.20          31018.30       62036.60              8.0  \n",
      "8  33041.76   22607.52          80299.89       54942.03             27.0  \n",
      "9  29607.90   17764.74          68127.90       40876.74             67.0  \n"
     ]
    }
   ],
   "source": [
    "print(\"Urban head:\")\n",
    "print(df_urban.head())\n",
    "\n",
    "print(\"\\nRural head:\")\n",
    "print(df_rural.head())\n",
    "\n",
    "print(\"\\nSuburban head:\")\n",
    "print(df_suburban.head())\n"
   ]
  },
  {
   "cell_type": "code",
   "execution_count": 11,
   "id": "44bd4cd5",
   "metadata": {},
   "outputs": [
    {
     "name": "stdout",
     "output_type": "stream",
     "text": [
      "['Region', 'PC', 'Description', 'km^2', 'Households', 'Population', 'Category', 'Affluent', 'Connected', 'Mobile Lifestyle', 'City Slickers', 'Towers Required']\n"
     ]
    }
   ],
   "source": [
    "print(df_urban.columns.tolist())\n"
   ]
  },
  {
   "cell_type": "code",
   "execution_count": 14,
   "id": "0fe6257c",
   "metadata": {},
   "outputs": [
    {
     "name": "stderr",
     "output_type": "stream",
     "text": [
      "C:\\Users\\Abhay Kumar\\AppData\\Local\\Temp\\ipykernel_19208\\3357386161.py:5: SettingWithCopyWarning: \n",
      "A value is trying to be set on a copy of a slice from a DataFrame.\n",
      "Try using .loc[row_indexer,col_indexer] = value instead\n",
      "\n",
      "See the caveats in the documentation: https://pandas.pydata.org/pandas-docs/stable/user_guide/indexing.html#returning-a-view-versus-a-copy\n",
      "  df_cat[col] = pd.to_numeric(df_cat[col], errors='coerce')  # convert to numeric, coerce errors to NaN\n"
     ]
    }
   ],
   "source": [
    "cols = ['Affluent', 'Connected', 'Mobile Lifestyle', 'City Slickers']\n",
    "\n",
    "for df_cat in [df_urban, df_rural, df_suburban]:\n",
    "    for col in cols:\n",
    "        df_cat[col] = pd.to_numeric(df_cat[col], errors='coerce')  # convert to numeric, coerce errors to NaN\n"
   ]
  },
  {
   "cell_type": "code",
   "execution_count": 15,
   "id": "fcd0cf30",
   "metadata": {},
   "outputs": [],
   "source": [
    "plans_corrected = {\n",
    "    \"LightSpeed Unlimited\": {\n",
    "        \"Mobile Lifestyle\": [0.005, 0.015, 0.03],\n",
    "        \"City Slickers\": [0.005, 0.01, 0.015],\n",
    "    },\n",
    "    \"LightSpeed Unplugged\": {\n",
    "        \"Mobile Lifestyle\": [0.01, 0.02, 0.03],\n",
    "        \"City Slickers\": [0.015, 0.03, 0.05],\n",
    "    },\n",
    "    \"LightSpeed Unwired\": {\n",
    "        \"Affluent\": [0.005, 0.01, 0.03],\n",
    "        \"Connected\": [0.005, 0.01, 0.03],\n",
    "    },\n",
    "    \"Total LightSpeed\": {\n",
    "        \"Affluent\": [0.005, 0.01, 0.005],\n",
    "        \"Connected\": [0.005, 0.005, 0.005],\n",
    "    }\n",
    "}\n"
   ]
  },
  {
   "cell_type": "code",
   "execution_count": 19,
   "id": "69df48eb",
   "metadata": {},
   "outputs": [
    {
     "data": {
      "text/plain": [
       "(np.float64(0.0), np.float64(0.0), np.float64(0.0), np.float64(0.0))"
      ]
     },
     "execution_count": 19,
     "metadata": {},
     "output_type": "execute_result"
    }
   ],
   "source": [
    "# Monthly prices and duration\n",
    "plan_prices = {\n",
    "    \"LightSpeed Unlimited\": 75,\n",
    "    \"LightSpeed Unplugged\": 30,\n",
    "    \"LightSpeed Unwired\": 40,\n",
    "    \"Total LightSpeed\": 120\n",
    "}\n",
    "duration_months = 18\n",
    "\n",
    "def compute_total_revenue(abs_df):\n",
    "    total = 0\n",
    "    for plan in abs_df.columns:\n",
    "        total += abs_df[plan].sum() * plan_prices[plan] * duration_months\n",
    "    return total\n",
    "\n",
    "# Total revenue per category\n",
    "revenue_urban = compute_total_revenue(abs_urban)\n",
    "revenue_rural = compute_total_revenue(abs_rural)\n",
    "revenue_suburban = compute_total_revenue(abs_suburban)\n",
    "\n",
    "total_revenue_all = revenue_urban + revenue_rural + revenue_suburban\n",
    "\n",
    "revenue_urban, revenue_rural, revenue_suburban, total_revenue_all\n"
   ]
  },
  {
   "cell_type": "code",
   "execution_count": 22,
   "id": "0ac0d967",
   "metadata": {},
   "outputs": [
    {
     "name": "stdout",
     "output_type": "stream",
     "text": [
      "Urban Net Revenue: 5550920719.9725\n",
      "Rural Net Revenue: 7219635476.760001\n",
      "Suburban Net Revenue: 8486081285.459999\n",
      "Total Net Revenue: 21256637482.1925\n",
      "\n",
      "Total Service Revenue: 38141484429.600006\n",
      "Total Device Subsidy: 16645194947.407501\n",
      "Total Tower Cost (CAPEX+OPEX): 239652000.0\n"
     ]
    }
   ],
   "source": [
    "import numpy as np\n",
    "\n",
    "# ----- Inputs -----\n",
    "\n",
    "# Plans monthly prices & duration\n",
    "plan_prices = {\n",
    "    \"LightSpeed Unlimited\": 75,\n",
    "    \"LightSpeed Unplugged\": 30,\n",
    "    \"LightSpeed Unwired\": 40,\n",
    "    \"Total LightSpeed\": 120\n",
    "}\n",
    "duration_months = 18\n",
    "\n",
    "# Device setup cost tiers per plan\n",
    "device_cost_tiers = {\n",
    "    \"LightSpeed Unlimited\": [(1e6, 350), (5e6, 330), (1e7, 320), (float('inf'), 300)],\n",
    "    \"LightSpeed Unplugged\": [(1e6, 50), (5e6, 48), (1e7, 46), (float('inf'), 43)],\n",
    "    \"LightSpeed Unwired\": [(1e6, 200), (3e6, 185), (1e7, 180), (float('inf'), 170)],\n",
    "    \"Total LightSpeed\": [(1e6, 350), (5e6, 330), (1e7, 320), (float('inf'), 300)]\n",
    "}\n",
    "\n",
    "# Device subsidy per year\n",
    "subsidy_year = [0.5, 0.75, 1.0]\n",
    "\n",
    "# CAPEX & OPEX\n",
    "capex_per_tower = 75000\n",
    "opex_per_tower_per_year = 3000\n",
    "\n",
    "# User type mapping\n",
    "user_type_mapping = {\n",
    "    \"LightSpeed Unlimited\": [\"Mobile Lifestyle\", \"City Slickers\"],\n",
    "    \"LightSpeed Unplugged\": [\"Mobile Lifestyle\", \"City Slickers\"],\n",
    "    \"LightSpeed Unwired\": [\"Affluent\", \"Connected\"],\n",
    "    \"Total LightSpeed\": [\"Affluent\", \"Connected\"]\n",
    "}\n",
    "\n",
    "# ----- Helper functions -----\n",
    "def get_device_cost(plan, users):\n",
    "    \"\"\"Return device cost per unit based on number of users and tiered pricing.\"\"\"\n",
    "    for threshold, cost in device_cost_tiers[plan]:\n",
    "        if users <= threshold:\n",
    "            return cost\n",
    "    return device_cost_tiers[plan][-1][1]  # fallback\n",
    "\n",
    "def compute_service_revenue(df, plan):\n",
    "    \"\"\"Compute total service revenue for the plan.\"\"\"\n",
    "    total_users = 0\n",
    "    for col in user_type_mapping[plan]:\n",
    "        total_users += df[col].sum()\n",
    "    return total_users * plan_prices[plan] * duration_months\n",
    "\n",
    "def compute_device_subsidy(df, plan):\n",
    "    \"\"\"Compute total device subsidy for 3 years.\"\"\"\n",
    "    total_subsidy = 0\n",
    "    for col in user_type_mapping[plan]:\n",
    "        users = df[col].sum()\n",
    "        cost_per_device = get_device_cost(plan, users)\n",
    "        for subsidy in subsidy_year:\n",
    "            total_subsidy += users * cost_per_device * subsidy\n",
    "    return total_subsidy\n",
    "\n",
    "def compute_tower_cost(df):\n",
    "    \"\"\"Compute CAPEX and OPEX for towers.\"\"\"\n",
    "    num_towers = df['Towers Needed'].sum()   # <-- updated column name\n",
    "    total_capex = num_towers * capex_per_tower\n",
    "    total_opex = num_towers * opex_per_tower_per_year * 3  # 3 years\n",
    "    return total_capex + total_opex\n",
    "\n",
    "def compute_net_revenue(df):\n",
    "    \"\"\"Compute net revenue per category.\"\"\"\n",
    "    service_rev = sum([compute_service_revenue(df, plan) for plan in plan_prices])\n",
    "    device_sub = sum([compute_device_subsidy(df, plan) for plan in plan_prices])\n",
    "    tower_costs = compute_tower_cost(df)\n",
    "    net = service_rev - device_sub - tower_costs\n",
    "    return net, service_rev, device_sub, tower_costs\n",
    "\n",
    "# ----- Compute for each category -----\n",
    "net_urban, rev_urban, sub_urban, tower_urban = compute_net_revenue(df_urban)\n",
    "net_rural, rev_rural, sub_rural, tower_rural = compute_net_revenue(df_rural)\n",
    "net_suburban, rev_suburban, sub_suburban, tower_suburban = compute_net_revenue(df_suburban)\n",
    "\n",
    "# ----- Total -----\n",
    "total_net = net_urban + net_rural + net_suburban\n",
    "total_rev = rev_urban + rev_rural + rev_suburban\n",
    "total_sub = sub_urban + sub_rural + sub_suburban\n",
    "total_tower = tower_urban + tower_rural + tower_suburban\n",
    "\n",
    "# ----- Output -----\n",
    "print(\"Urban Net Revenue:\", net_urban)\n",
    "print(\"Rural Net Revenue:\", net_rural)\n",
    "print(\"Suburban Net Revenue:\", net_suburban)\n",
    "print(\"Total Net Revenue:\", total_net)\n",
    "\n",
    "print(\"\\nTotal Service Revenue:\", total_rev)\n",
    "print(\"Total Device Subsidy:\", total_sub)\n",
    "print(\"Total Tower Cost (CAPEX+OPEX):\", total_tower)\n"
   ]
  },
  {
   "cell_type": "code",
   "execution_count": null,
   "id": "df1e906a",
   "metadata": {},
   "outputs": [],
   "source": []
  },
  {
   "cell_type": "code",
   "execution_count": 21,
   "id": "92ff1d7f",
   "metadata": {},
   "outputs": [
    {
     "name": "stdout",
     "output_type": "stream",
     "text": [
      "['Region', 'PC', 'Description', 'km^2', 'Households', 'Population', 'Category', 'Affluent', 'Connected', 'Mobile Lifestyle', 'City Slickers', 'Towers Needed']\n"
     ]
    }
   ],
   "source": [
    "print(df_urban.columns.tolist())\n"
   ]
  },
  {
   "cell_type": "code",
   "execution_count": 23,
   "id": "7e482b53",
   "metadata": {},
   "outputs": [
    {
     "name": "stdout",
     "output_type": "stream",
     "text": [
      "        LightSpeed Unlimited  LightSpeed Unplugged  LightSpeed Unwired  \\\n",
      "Year 1                   NaN                   NaN                 NaN   \n",
      "Year 2                   NaN                   NaN                 NaN   \n",
      "Year 3                   NaN                   NaN                 NaN   \n",
      "\n",
      "        Total LightSpeed  \n",
      "Year 1               NaN  \n",
      "Year 2               NaN  \n",
      "Year 3               NaN  \n"
     ]
    }
   ],
   "source": [
    "import pandas as pd\n",
    "\n",
    "# Combine all category dataframes\n",
    "df_combined = pd.concat([df_urban, df_rural, df_suburban])\n",
    "df_combined.columns = df_combined.columns.str.strip()  # remove extra spaces\n",
    "\n",
    "# Base series mapping\n",
    "base_series_map = {\n",
    "    \"Affluent Households\": df_combined['Affluent'],\n",
    "    \"Connected Households\": df_combined['Connected'],\n",
    "    \"Mobile Lifestyle Followers\": df_combined['Mobile Lifestyle'],\n",
    "    \"City Slickers\": df_combined['City Slickers']\n",
    "}\n",
    "\n",
    "# Rollout percentages per plan (Year 1, Year 2, Year 3)\n",
    "rollout = {\n",
    "    \"LightSpeed Unlimited\": {\n",
    "        \"Mobile Lifestyle Followers\": [0.005, 0.015, 0.03],\n",
    "        \"City Slickers\": [0.005, 0.01, 0.015],\n",
    "    },\n",
    "    \"LightSpeed Unplugged\": {\n",
    "        \"Mobile Lifestyle Followers\": [0.01, 0.02, 0.03],\n",
    "        \"City Slickers\": [0.015, 0.03, 0.05],\n",
    "    },\n",
    "    \"LightSpeed Unwired\": {\n",
    "        \"Affluent Households\": [0.005, 0.01, 0.03],\n",
    "        \"Connected Households\": [0.005, 0.01, 0.03],\n",
    "    },\n",
    "    \"Total LightSpeed\": {\n",
    "        \"Affluent Households\": [0.005, 0.01, 0.005],\n",
    "        \"Connected Households\": [0.005, 0.01, 0.005],\n",
    "    }\n",
    "}\n",
    "\n",
    "# Function to calculate absolute numbers from percentages\n",
    "def calc_absolute(base_series, perc_list):\n",
    "    return [round((base_series * p).sum()) for p in perc_list]\n",
    "\n",
    "# Compute absolute numbers\n",
    "results = {}\n",
    "for plan, segments in rollout.items():\n",
    "    results[plan] = {}\n",
    "    for seg, perc in segments.items():\n",
    "        results[plan][seg] = calc_absolute(base_series_map[seg], perc)\n",
    "\n",
    "# Convert to a DataFrame for easy display\n",
    "df_results = pd.DataFrame(results, index=['Year 1', 'Year 2', 'Year 3'])\n",
    "print(df_results)\n"
   ]
  },
  {
   "cell_type": "code",
   "execution_count": 26,
   "id": "6f7551ec",
   "metadata": {},
   "outputs": [
    {
     "name": "stdout",
     "output_type": "stream",
     "text": [
      "['Region', 'PC', 'Description', 'km^2', 'Households', 'Population', 'Category', 'Affluent', 'Connected', 'Mobile Lifestyle', 'City Slickers', 'Towers Needed']\n"
     ]
    }
   ],
   "source": [
    "print(df_urban.columns.tolist())\n"
   ]
  },
  {
   "cell_type": "code",
   "execution_count": null,
   "id": "4c000493",
   "metadata": {},
   "outputs": [],
   "source": []
  }
 ],
 "metadata": {
  "kernelspec": {
   "display_name": "base",
   "language": "python",
   "name": "python3"
  },
  "language_info": {
   "codemirror_mode": {
    "name": "ipython",
    "version": 3
   },
   "file_extension": ".py",
   "mimetype": "text/x-python",
   "name": "python",
   "nbconvert_exporter": "python",
   "pygments_lexer": "ipython3",
   "version": "3.13.5"
  }
 },
 "nbformat": 4,
 "nbformat_minor": 5
}
